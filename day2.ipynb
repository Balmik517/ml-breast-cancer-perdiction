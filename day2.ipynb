{
  "nbformat": 4,
  "nbformat_minor": 0,
  "metadata": {
    "colab": {
      "name": "day2.ipynb",
      "provenance": [],
      "authorship_tag": "ABX9TyNwsDvfx+p3xo8ODtneWhys",
      "include_colab_link": true
    },
    "kernelspec": {
      "name": "python3",
      "display_name": "Python 3"
    }
  },
  "cells": [
    {
      "cell_type": "markdown",
      "metadata": {
        "id": "view-in-github",
        "colab_type": "text"
      },
      "source": [
        "<a href=\"https://colab.research.google.com/github/Balmik517/ml-breast-cancer-perdiction/blob/main/day2.ipynb\" target=\"_parent\"><img src=\"https://colab.research.google.com/assets/colab-badge.svg\" alt=\"Open In Colab\"/></a>"
      ]
    },
    {
      "cell_type": "code",
      "metadata": {
        "id": "xI_dc0Kc6uO4"
      },
      "source": [
        "a=10"
      ],
      "execution_count": 1,
      "outputs": []
    },
    {
      "cell_type": "code",
      "metadata": {
        "id": "nqjF-_9k7uuX"
      },
      "source": [
        "b=9"
      ],
      "execution_count": 2,
      "outputs": []
    },
    {
      "cell_type": "code",
      "metadata": {
        "colab": {
          "base_uri": "https://localhost:8080/"
        },
        "id": "vuNPB9H5718u",
        "outputId": "10980ddb-3138-4fbd-fa50-7b2259e90e4a"
      },
      "source": [
        "a == b"
      ],
      "execution_count": 3,
      "outputs": [
        {
          "output_type": "execute_result",
          "data": {
            "text/plain": [
              "False"
            ]
          },
          "metadata": {
            "tags": []
          },
          "execution_count": 3
        }
      ]
    },
    {
      "cell_type": "code",
      "metadata": {
        "colab": {
          "base_uri": "https://localhost:8080/"
        },
        "id": "D4WajLPJ796w",
        "outputId": "3b6b50f5-563d-4e96-8dd8-ba9e24189cc1"
      },
      "source": [
        "a > b"
      ],
      "execution_count": 5,
      "outputs": [
        {
          "output_type": "execute_result",
          "data": {
            "text/plain": [
              "True"
            ]
          },
          "metadata": {
            "tags": []
          },
          "execution_count": 5
        }
      ]
    },
    {
      "cell_type": "code",
      "metadata": {
        "colab": {
          "base_uri": "https://localhost:8080/"
        },
        "id": "LCSBkJyM8L4O",
        "outputId": "bbbf2e5d-27c7-4d06-c21b-f34202aa26f5"
      },
      "source": [
        "a < b"
      ],
      "execution_count": 6,
      "outputs": [
        {
          "output_type": "execute_result",
          "data": {
            "text/plain": [
              "False"
            ]
          },
          "metadata": {
            "tags": []
          },
          "execution_count": 6
        }
      ]
    },
    {
      "cell_type": "code",
      "metadata": {
        "colab": {
          "base_uri": "https://localhost:8080/"
        },
        "id": "qTxxkpg-8Yx_",
        "outputId": "3681be12-809b-4717-c292-ff68858a7490"
      },
      "source": [
        "a <= b"
      ],
      "execution_count": 8,
      "outputs": [
        {
          "output_type": "execute_result",
          "data": {
            "text/plain": [
              "False"
            ]
          },
          "metadata": {
            "tags": []
          },
          "execution_count": 8
        }
      ]
    },
    {
      "cell_type": "code",
      "metadata": {
        "colab": {
          "base_uri": "https://localhost:8080/"
        },
        "id": "tkAJkxhM8VsL",
        "outputId": "c72992d6-11e5-49a0-e3ef-fc2b7c77f72c"
      },
      "source": [
        "a >= b"
      ],
      "execution_count": 7,
      "outputs": [
        {
          "output_type": "execute_result",
          "data": {
            "text/plain": [
              "True"
            ]
          },
          "metadata": {
            "tags": []
          },
          "execution_count": 7
        }
      ]
    },
    {
      "cell_type": "code",
      "metadata": {
        "id": "py_qgnc28dre"
      },
      "source": [
        ""
      ],
      "execution_count": null,
      "outputs": []
    },
    {
      "cell_type": "markdown",
      "metadata": {
        "id": "4zxDwcBr8k0Q"
      },
      "source": [
        "logical comperision"
      ]
    },
    {
      "cell_type": "code",
      "metadata": {
        "id": "9cyAp31A86OT"
      },
      "source": [
        "c = 7"
      ],
      "execution_count": 9,
      "outputs": []
    },
    {
      "cell_type": "code",
      "metadata": {
        "colab": {
          "base_uri": "https://localhost:8080/"
        },
        "id": "aANh-XG69Jl0",
        "outputId": "bc4a34ef-9d25-41d0-d7ae-b0648ec2eae4"
      },
      "source": [
        "a , b , c"
      ],
      "execution_count": 10,
      "outputs": [
        {
          "output_type": "execute_result",
          "data": {
            "text/plain": [
              "(10, 9, 7)"
            ]
          },
          "metadata": {
            "tags": []
          },
          "execution_count": 10
        }
      ]
    },
    {
      "cell_type": "code",
      "metadata": {
        "colab": {
          "base_uri": "https://localhost:8080/"
        },
        "id": "RNxqCin_9gVA",
        "outputId": "f51bd846-0947-4a8e-bb4c-e7998109efe5"
      },
      "source": [
        "# true false\r\n",
        "a > b and b>c"
      ],
      "execution_count": 11,
      "outputs": [
        {
          "output_type": "execute_result",
          "data": {
            "text/plain": [
              "True"
            ]
          },
          "metadata": {
            "tags": []
          },
          "execution_count": 11
        }
      ]
    },
    {
      "cell_type": "code",
      "metadata": {
        "colab": {
          "base_uri": "https://localhost:8080/"
        },
        "id": "_ZaPV41k9r7J",
        "outputId": "37aece3a-f6c3-4978-e4ec-f154ddf35e65"
      },
      "source": [
        "b < a and c > a"
      ],
      "execution_count": 12,
      "outputs": [
        {
          "output_type": "execute_result",
          "data": {
            "text/plain": [
              "False"
            ]
          },
          "metadata": {
            "tags": []
          },
          "execution_count": 12
        }
      ]
    },
    {
      "cell_type": "code",
      "metadata": {
        "colab": {
          "base_uri": "https://localhost:8080/"
        },
        "id": "5P0Aq5-Y-LMW",
        "outputId": "5a8d8cbb-4c76-4efd-8a85-4cd243093022"
      },
      "source": [
        "a , b , c"
      ],
      "execution_count": 13,
      "outputs": [
        {
          "output_type": "execute_result",
          "data": {
            "text/plain": [
              "(10, 9, 7)"
            ]
          },
          "metadata": {
            "tags": []
          },
          "execution_count": 13
        }
      ]
    },
    {
      "cell_type": "code",
      "metadata": {
        "colab": {
          "base_uri": "https://localhost:8080/"
        },
        "id": "STonphLM93nN",
        "outputId": "65e56508-ae24-4b0b-e23c-320c84cedcf7"
      },
      "source": [
        "# if else if\r\n",
        "# is is used for decision making\r\n",
        "if a > b :\r\n",
        "  print (\"A is a bigger number\")\r\n"
      ],
      "execution_count": 14,
      "outputs": [
        {
          "output_type": "stream",
          "text": [
            "A is a bigger number\n"
          ],
          "name": "stdout"
        }
      ]
    },
    {
      "cell_type": "code",
      "metadata": {
        "id": "nljVoGTf-2f1"
      },
      "source": [
        "a = 8"
      ],
      "execution_count": 15,
      "outputs": []
    },
    {
      "cell_type": "code",
      "metadata": {
        "colab": {
          "base_uri": "https://localhost:8080/"
        },
        "id": "C-iaSZC5-8mQ",
        "outputId": "fbe6c875-2335-42df-e12d-019b4e23a0e6"
      },
      "source": [
        "a , b , c"
      ],
      "execution_count": 18,
      "outputs": [
        {
          "output_type": "execute_result",
          "data": {
            "text/plain": [
              "(8, 9, 7)"
            ]
          },
          "metadata": {
            "tags": []
          },
          "execution_count": 18
        }
      ]
    },
    {
      "cell_type": "code",
      "metadata": {
        "colab": {
          "base_uri": "https://localhost:8080/"
        },
        "id": "BoNWKmoA_wNY",
        "outputId": "9cd4be3c-a06d-4952-ff1e-4c9cce156975"
      },
      "source": [
        "if a > b :\r\n",
        "  print(\"A Is a Bigger Number\")\r\n",
        "else:\r\n",
        "  print(\"B is Bigger Number\")"
      ],
      "execution_count": 20,
      "outputs": [
        {
          "output_type": "stream",
          "text": [
            "B is Bigger Number\n"
          ],
          "name": "stdout"
        }
      ]
    },
    {
      "cell_type": "code",
      "metadata": {
        "colab": {
          "base_uri": "https://localhost:8080/"
        },
        "id": "pYLc0DmoAO6r",
        "outputId": "be358abb-4c0c-421a-c742-ee01117d3dee"
      },
      "source": [
        "if a > 10:\r\n",
        "  print(\"A is big than 10 \")\r\n",
        "elif a > 9:\r\n",
        "  print(\"A is greater than 9 \")\r\n",
        "else:\r\n",
        "  print(\"A is Not greater than b or c\")"
      ],
      "execution_count": 25,
      "outputs": [
        {
          "output_type": "stream",
          "text": [
            "A is Not greater than b or c\n"
          ],
          "name": "stdout"
        }
      ]
    },
    {
      "cell_type": "code",
      "metadata": {
        "colab": {
          "base_uri": "https://localhost:8080/"
        },
        "id": "9vOeXJB7CYlQ",
        "outputId": "1dcdfe7f-e8ee-4877-97a2-ee1bf99458e3"
      },
      "source": [
        "if a > 10:\r\n",
        "  print(\"A is big than 10\")\r\n",
        "elif a > 9:\r\n",
        "  print(\"A is big than 9\")\r\n",
        "else:\r\n",
        "  print(\"A is nat big than b and c \")  \r\n"
      ],
      "execution_count": 26,
      "outputs": [
        {
          "output_type": "stream",
          "text": [
            "A is nat big than b and c \n"
          ],
          "name": "stdout"
        }
      ]
    },
    {
      "cell_type": "markdown",
      "metadata": {
        "id": "YNtZRcQ6Ea0E"
      },
      "source": [
        ""
      ]
    },
    {
      "cell_type": "markdown",
      "metadata": {
        "id": "KsEcV4fwEdgT"
      },
      "source": [
        "day four \r\n",
        "break cotinue\r\n",
        "function ?\r\n"
      ]
    },
    {
      "cell_type": "code",
      "metadata": {
        "colab": {
          "base_uri": "https://localhost:8080/"
        },
        "id": "FXzEckKpEwEI",
        "outputId": "2dca01de-f555-496f-b172-4210de9eeea7"
      },
      "source": [
        "for item in range(100):\r\n",
        "  print(\"Hey we are going at a Speed of 50KMPH \", item)\r\n",
        "  if item >=30:\r\n",
        "    break"
      ],
      "execution_count": 31,
      "outputs": [
        {
          "output_type": "stream",
          "text": [
            "Hey we are going at a Speed of 50KMPH  0\n",
            "Hey we are going at a Speed of 50KMPH  1\n",
            "Hey we are going at a Speed of 50KMPH  2\n",
            "Hey we are going at a Speed of 50KMPH  3\n",
            "Hey we are going at a Speed of 50KMPH  4\n",
            "Hey we are going at a Speed of 50KMPH  5\n",
            "Hey we are going at a Speed of 50KMPH  6\n",
            "Hey we are going at a Speed of 50KMPH  7\n",
            "Hey we are going at a Speed of 50KMPH  8\n",
            "Hey we are going at a Speed of 50KMPH  9\n",
            "Hey we are going at a Speed of 50KMPH  10\n",
            "Hey we are going at a Speed of 50KMPH  11\n",
            "Hey we are going at a Speed of 50KMPH  12\n",
            "Hey we are going at a Speed of 50KMPH  13\n",
            "Hey we are going at a Speed of 50KMPH  14\n",
            "Hey we are going at a Speed of 50KMPH  15\n",
            "Hey we are going at a Speed of 50KMPH  16\n",
            "Hey we are going at a Speed of 50KMPH  17\n",
            "Hey we are going at a Speed of 50KMPH  18\n",
            "Hey we are going at a Speed of 50KMPH  19\n",
            "Hey we are going at a Speed of 50KMPH  20\n",
            "Hey we are going at a Speed of 50KMPH  21\n",
            "Hey we are going at a Speed of 50KMPH  22\n",
            "Hey we are going at a Speed of 50KMPH  23\n",
            "Hey we are going at a Speed of 50KMPH  24\n",
            "Hey we are going at a Speed of 50KMPH  25\n",
            "Hey we are going at a Speed of 50KMPH  26\n",
            "Hey we are going at a Speed of 50KMPH  27\n",
            "Hey we are going at a Speed of 50KMPH  28\n",
            "Hey we are going at a Speed of 50KMPH  29\n",
            "Hey we are going at a Speed of 50KMPH  30\n"
          ],
          "name": "stdout"
        }
      ]
    },
    {
      "cell_type": "code",
      "metadata": {
        "colab": {
          "base_uri": "https://localhost:8080/"
        },
        "id": "_Yqa2Yh3GiPQ",
        "outputId": "1e101540-125e-466f-c0d9-bb566a1cedd1"
      },
      "source": [
        "for meter in range(20):\r\n",
        "  if meter == 10:\r\n",
        "    continue\r\n",
        "  print(\"We will encounter a Speedbreak, we need to slow down and go pickup again\", meter)\r\n",
        "  "
      ],
      "execution_count": 38,
      "outputs": [
        {
          "output_type": "stream",
          "text": [
            "We will encounter a Speedbreak, we need to slow down and go pickup again 0\n",
            "We will encounter a Speedbreak, we need to slow down and go pickup again 1\n",
            "We will encounter a Speedbreak, we need to slow down and go pickup again 2\n",
            "We will encounter a Speedbreak, we need to slow down and go pickup again 3\n",
            "We will encounter a Speedbreak, we need to slow down and go pickup again 4\n",
            "We will encounter a Speedbreak, we need to slow down and go pickup again 5\n",
            "We will encounter a Speedbreak, we need to slow down and go pickup again 6\n",
            "We will encounter a Speedbreak, we need to slow down and go pickup again 7\n",
            "We will encounter a Speedbreak, we need to slow down and go pickup again 8\n",
            "We will encounter a Speedbreak, we need to slow down and go pickup again 9\n",
            "We will encounter a Speedbreak, we need to slow down and go pickup again 11\n",
            "We will encounter a Speedbreak, we need to slow down and go pickup again 12\n",
            "We will encounter a Speedbreak, we need to slow down and go pickup again 13\n",
            "We will encounter a Speedbreak, we need to slow down and go pickup again 14\n",
            "We will encounter a Speedbreak, we need to slow down and go pickup again 15\n",
            "We will encounter a Speedbreak, we need to slow down and go pickup again 16\n",
            "We will encounter a Speedbreak, we need to slow down and go pickup again 17\n",
            "We will encounter a Speedbreak, we need to slow down and go pickup again 18\n",
            "We will encounter a Speedbreak, we need to slow down and go pickup again 19\n"
          ],
          "name": "stdout"
        }
      ]
    },
    {
      "cell_type": "code",
      "metadata": {
        "colab": {
          "base_uri": "https://localhost:8080/"
        },
        "id": "s2UQkAnRHj1v",
        "outputId": "7f6f262f-544e-45eb-d888-3be72b8c0317"
      },
      "source": [
        "for meter in range(20):\r\n",
        "  if meter == 10:\r\n",
        "    continue\r\n",
        "  print(\"We will encounter a speedbreak, we need to slow down and go pick up again\",meter)"
      ],
      "execution_count": 44,
      "outputs": [
        {
          "output_type": "stream",
          "text": [
            "We will encounter a speedbreak, we need to slow down and go pick up again 0\n",
            "We will encounter a speedbreak, we need to slow down and go pick up again 1\n",
            "We will encounter a speedbreak, we need to slow down and go pick up again 2\n",
            "We will encounter a speedbreak, we need to slow down and go pick up again 3\n",
            "We will encounter a speedbreak, we need to slow down and go pick up again 4\n",
            "We will encounter a speedbreak, we need to slow down and go pick up again 5\n",
            "We will encounter a speedbreak, we need to slow down and go pick up again 6\n",
            "We will encounter a speedbreak, we need to slow down and go pick up again 7\n",
            "We will encounter a speedbreak, we need to slow down and go pick up again 8\n",
            "We will encounter a speedbreak, we need to slow down and go pick up again 9\n",
            "We will encounter a speedbreak, we need to slow down and go pick up again 11\n",
            "We will encounter a speedbreak, we need to slow down and go pick up again 12\n",
            "We will encounter a speedbreak, we need to slow down and go pick up again 13\n",
            "We will encounter a speedbreak, we need to slow down and go pick up again 14\n",
            "We will encounter a speedbreak, we need to slow down and go pick up again 15\n",
            "We will encounter a speedbreak, we need to slow down and go pick up again 16\n",
            "We will encounter a speedbreak, we need to slow down and go pick up again 17\n",
            "We will encounter a speedbreak, we need to slow down and go pick up again 18\n",
            "We will encounter a speedbreak, we need to slow down and go pick up again 19\n"
          ],
          "name": "stdout"
        }
      ]
    },
    {
      "cell_type": "code",
      "metadata": {
        "id": "ay_TVeLjJG2G"
      },
      "source": [
        "for item in range(1,100):\r\n",
        "  pass"
      ],
      "execution_count": 45,
      "outputs": []
    },
    {
      "cell_type": "markdown",
      "metadata": {
        "id": "VjyjLX7wJZdY"
      },
      "source": [
        "Function"
      ]
    },
    {
      "cell_type": "code",
      "metadata": {
        "colab": {
          "base_uri": "https://localhost:8080/"
        },
        "id": "C0m-RZEXJYlg",
        "outputId": "1229cf0f-465a-4075-d2bf-d0280608efc6"
      },
      "source": [
        "print(\"hey\",\"arjun\")\r\n",
        "\r\n",
        "print(\"hey\",\"vishal\")\r\n",
        "print(\"hey\",\"ajay\")"
      ],
      "execution_count": 46,
      "outputs": [
        {
          "output_type": "stream",
          "text": [
            "hey arjun\n",
            "hey vishal\n",
            "hey ajay\n"
          ],
          "name": "stdout"
        }
      ]
    },
    {
      "cell_type": "code",
      "metadata": {
        "id": "Fof8S-ChKGF3"
      },
      "source": [
        "lst = [\"arjun\", \"ajay\", \"vishal\",\"vinay\"]"
      ],
      "execution_count": 47,
      "outputs": []
    },
    {
      "cell_type": "code",
      "metadata": {
        "id": "DWl6iUT5Kqtt"
      },
      "source": [
        "def greeting(name):\r\n",
        "  print(\"hey\",name)"
      ],
      "execution_count": 58,
      "outputs": []
    },
    {
      "cell_type": "code",
      "metadata": {
        "colab": {
          "base_uri": "https://localhost:8080/"
        },
        "id": "kdGPA0x-K8GQ",
        "outputId": "e7532c96-f7b9-4b95-8568-b6cab1a65292"
      },
      "source": [
        "for item in lst:\r\n",
        "  greeting(item)"
      ],
      "execution_count": 59,
      "outputs": [
        {
          "output_type": "stream",
          "text": [
            "hey arjun\n",
            "hey ajay\n",
            "hey vishal\n",
            "hey vinay\n"
          ],
          "name": "stdout"
        }
      ]
    },
    {
      "cell_type": "code",
      "metadata": {
        "id": "74ew7CXrLGZV"
      },
      "source": [
        "def tables(num):\r\n",
        "  for item in range(1,11):\r\n",
        "    print(num, 'X', item, \" = \", num*item )"
      ],
      "execution_count": 60,
      "outputs": []
    },
    {
      "cell_type": "code",
      "metadata": {
        "colab": {
          "base_uri": "https://localhost:8080/"
        },
        "id": "CkISynkIMd5V",
        "outputId": "5e77be67-2f47-415b-d73e-e21da861aac3"
      },
      "source": [
        "tables(6)"
      ],
      "execution_count": 61,
      "outputs": [
        {
          "output_type": "stream",
          "text": [
            "6 X 1  =  6\n",
            "6 X 2  =  12\n",
            "6 X 3  =  18\n",
            "6 X 4  =  24\n",
            "6 X 5  =  30\n",
            "6 X 6  =  36\n",
            "6 X 7  =  42\n",
            "6 X 8  =  48\n",
            "6 X 9  =  54\n",
            "6 X 10  =  60\n"
          ],
          "name": "stdout"
        }
      ]
    },
    {
      "cell_type": "code",
      "metadata": {
        "id": "GKMpqWwCM2wr"
      },
      "source": [
        "# get power of a number\r\n",
        "def powreSix(num):\r\n",
        "  return num**6"
      ],
      "execution_count": 62,
      "outputs": []
    },
    {
      "cell_type": "code",
      "metadata": {
        "colab": {
          "base_uri": "https://localhost:8080/"
        },
        "id": "GChz68pZNNbu",
        "outputId": "3628773d-7d38-46b5-a841-e56230cebd0b"
      },
      "source": [
        "print(powreSix(4))"
      ],
      "execution_count": 64,
      "outputs": [
        {
          "output_type": "stream",
          "text": [
            "4096\n"
          ],
          "name": "stdout"
        }
      ]
    },
    {
      "cell_type": "code",
      "metadata": {
        "id": "l-N8KxChNcAu"
      },
      "source": [
        "def powerNine(num):\r\n",
        "  return num**9"
      ],
      "execution_count": 65,
      "outputs": []
    },
    {
      "cell_type": "code",
      "metadata": {
        "colab": {
          "base_uri": "https://localhost:8080/"
        },
        "id": "1yxHpK8YNb_L",
        "outputId": "5359d0be-bbac-4b7c-ba10-afab72eea7c4"
      },
      "source": [
        "print(powerNine(8))"
      ],
      "execution_count": 66,
      "outputs": [
        {
          "output_type": "stream",
          "text": [
            "134217728\n"
          ],
          "name": "stdout"
        }
      ]
    }
  ]
}